{
 "cells": [
  {
   "cell_type": "markdown",
   "metadata": {},
   "source": [
    "## Machine Learning (Linear Regression) Project\n",
    "\n",
    "This project aims to build a **linear regression** model that predicts the condominium prices in Malaysia, based on this [dataset](https://www.kaggle.com/datasets/mcpenguin/raw-malaysian-housing-prices-data).\n",
    "\n",
    "I have also written a [Medium article]() on this very project.\n",
    "\n",
    "2 major parts:\n",
    "1. Data Cleaning\n",
    "2. Machine Learning \n",
    "\n",
    "Prepared by: **Faiz Yah** ^^\n",
    "\n",
    "Tongji University, Shanghai. _20th May 2024_\n"
   ]
  },
  {
   "cell_type": "markdown",
   "metadata": {},
   "source": [
    "# 1. Data Cleaning"
   ]
  },
  {
   "cell_type": "markdown",
   "metadata": {},
   "source": [
    "### 1.1 Check information of the data set"
   ]
  },
  {
   "cell_type": "code",
   "execution_count": 1,
   "metadata": {},
   "outputs": [],
   "source": [
    "import pandas as pd\n",
    "\n",
    "df = pd.read_csv('houses.csv')"
   ]
  },
  {
   "cell_type": "code",
   "execution_count": 2,
   "metadata": {},
   "outputs": [
    {
     "name": "stdout",
     "output_type": "stream",
     "text": [
      "<class 'pandas.core.frame.DataFrame'>\n",
      "RangeIndex: 4000 entries, 0 to 3999\n",
      "Data columns (total 32 columns):\n",
      " #   Column                  Non-Null Count  Dtype \n",
      "---  ------                  --------------  ----- \n",
      " 0   description             4000 non-null   object\n",
      " 1   Bedroom                 4000 non-null   object\n",
      " 2   Bathroom                4000 non-null   object\n",
      " 3   Property Size           4000 non-null   object\n",
      " 4   Nearby School           687 non-null    object\n",
      " 5   Nearby Mall             365 non-null    object\n",
      " 6   Ad List                 4000 non-null   int64 \n",
      " 7   Category                4000 non-null   object\n",
      " 8   Facilities              4000 non-null   object\n",
      " 9   Building Name           4000 non-null   object\n",
      " 10  Developer               4000 non-null   object\n",
      " 11  Tenure Type             4000 non-null   object\n",
      " 12  Address                 4000 non-null   object\n",
      " 13  Completion Year         4000 non-null   object\n",
      " 14  # of Floors             4000 non-null   object\n",
      " 15  Total Units             4000 non-null   object\n",
      " 16  Property Type           4000 non-null   object\n",
      " 17  Parking Lot             4000 non-null   object\n",
      " 18  Floor Range             4000 non-null   object\n",
      " 19  Land Title              4000 non-null   object\n",
      " 20  Firm Type               3797 non-null   object\n",
      " 21  Firm Number             3797 non-null   object\n",
      " 22  REN Number              3797 non-null   object\n",
      " 23  Bus Stop                708 non-null    object\n",
      " 24  Mall                    475 non-null    object\n",
      " 25  Park                    807 non-null    object\n",
      " 26  School                  948 non-null    object\n",
      " 27  Hospital                343 non-null    object\n",
      " 28  price                   4000 non-null   object\n",
      " 29  Highway                 141 non-null    object\n",
      " 30  Nearby Railway Station  363 non-null    object\n",
      " 31  Railway Station         485 non-null    object\n",
      "dtypes: int64(1), object(31)\n",
      "memory usage: 1000.1+ KB\n"
     ]
    }
   ],
   "source": [
    "df.info()"
   ]
  },
  {
   "cell_type": "code",
   "execution_count": 3,
   "metadata": {},
   "outputs": [
    {
     "data": {
      "text/plain": [
       "(4000, 32)"
      ]
     },
     "execution_count": 3,
     "metadata": {},
     "output_type": "execute_result"
    }
   ],
   "source": [
    "df.shape"
   ]
  },
  {
   "cell_type": "code",
   "execution_count": 4,
   "metadata": {},
   "outputs": [
    {
     "data": {
      "text/html": [
       "<div>\n",
       "<style scoped>\n",
       "    .dataframe tbody tr th:only-of-type {\n",
       "        vertical-align: middle;\n",
       "    }\n",
       "\n",
       "    .dataframe tbody tr th {\n",
       "        vertical-align: top;\n",
       "    }\n",
       "\n",
       "    .dataframe thead th {\n",
       "        text-align: right;\n",
       "    }\n",
       "</style>\n",
       "<table border=\"1\" class=\"dataframe\">\n",
       "  <thead>\n",
       "    <tr style=\"text-align: right;\">\n",
       "      <th></th>\n",
       "      <th>description</th>\n",
       "      <th>Bedroom</th>\n",
       "      <th>Bathroom</th>\n",
       "      <th>Property Size</th>\n",
       "      <th>Nearby School</th>\n",
       "      <th>Nearby Mall</th>\n",
       "      <th>Ad List</th>\n",
       "      <th>Category</th>\n",
       "      <th>Facilities</th>\n",
       "      <th>Building Name</th>\n",
       "      <th>Developer</th>\n",
       "      <th>Tenure Type</th>\n",
       "      <th>Address</th>\n",
       "      <th>Completion Year</th>\n",
       "      <th># of Floors</th>\n",
       "      <th>Total Units</th>\n",
       "      <th>Property Type</th>\n",
       "      <th>Parking Lot</th>\n",
       "      <th>Floor Range</th>\n",
       "      <th>Land Title</th>\n",
       "      <th>Firm Type</th>\n",
       "      <th>Firm Number</th>\n",
       "      <th>REN Number</th>\n",
       "      <th>Bus Stop</th>\n",
       "      <th>Mall</th>\n",
       "      <th>Park</th>\n",
       "      <th>School</th>\n",
       "      <th>Hospital</th>\n",
       "      <th>price</th>\n",
       "      <th>Highway</th>\n",
       "      <th>Nearby Railway Station</th>\n",
       "      <th>Railway Station</th>\n",
       "    </tr>\n",
       "  </thead>\n",
       "  <tbody>\n",
       "    <tr>\n",
       "      <th>0</th>\n",
       "      <td>Iconic Building @ KL SETAPAK\\nNew launching &amp; ...</td>\n",
       "      <td>4</td>\n",
       "      <td>2</td>\n",
       "      <td>1000 sq.ft.</td>\n",
       "      <td>Sekolah Menengah Pendidikan Khas Cacat Penglih...</td>\n",
       "      <td>Setapak Central</td>\n",
       "      <td>98187451</td>\n",
       "      <td>Apartment / Condominium, For sale</td>\n",
       "      <td>-</td>\n",
       "      <td>Kenwingston Platz</td>\n",
       "      <td>Kenwingston Group</td>\n",
       "      <td>Freehold</td>\n",
       "      <td>Jalan Gombak, Setapak, Kuala Lumpur</td>\n",
       "      <td>-</td>\n",
       "      <td>-</td>\n",
       "      <td>-</td>\n",
       "      <td>Service Residence</td>\n",
       "      <td>2</td>\n",
       "      <td>-</td>\n",
       "      <td>Non Bumi Lot</td>\n",
       "      <td>VE</td>\n",
       "      <td>30338</td>\n",
       "      <td>-</td>\n",
       "      <td>Bus Stop Starparc Point\\nBus Stop Setapak Cent...</td>\n",
       "      <td>Setapak Central</td>\n",
       "      <td>Park at Taman Tasik Danau Kota, Setapak, Kuala...</td>\n",
       "      <td>Sekolah Menengah Pendidikan Khas Cacat Penglih...</td>\n",
       "      <td>Columbia Asia Hospital</td>\n",
       "      <td>RM 340 000</td>\n",
       "      <td>NaN</td>\n",
       "      <td>NaN</td>\n",
       "      <td>NaN</td>\n",
       "    </tr>\n",
       "    <tr>\n",
       "      <th>1</th>\n",
       "      <td>FOR SALE @ RM250,000\\nIntroduction:\\n~ Pangsap...</td>\n",
       "      <td>3</td>\n",
       "      <td>2</td>\n",
       "      <td>980 sq.ft.</td>\n",
       "      <td>NaN</td>\n",
       "      <td>NaN</td>\n",
       "      <td>101683090</td>\n",
       "      <td>Apartment / Condominium, For sale</td>\n",
       "      <td>Parking, Security, Swimming Pool, Playground, ...</td>\n",
       "      <td>Kenanga (Park View Court)</td>\n",
       "      <td>-</td>\n",
       "      <td>Freehold</td>\n",
       "      <td>Jalan Kenanga 3/8, Melaka City, Melaka</td>\n",
       "      <td>-</td>\n",
       "      <td>-</td>\n",
       "      <td>-</td>\n",
       "      <td>Apartment</td>\n",
       "      <td>1</td>\n",
       "      <td>Low</td>\n",
       "      <td>Non Bumi Lot</td>\n",
       "      <td>E</td>\n",
       "      <td>30812</td>\n",
       "      <td>REN 15862</td>\n",
       "      <td>NaN</td>\n",
       "      <td>NaN</td>\n",
       "      <td>NaN</td>\n",
       "      <td>NaN</td>\n",
       "      <td>NaN</td>\n",
       "      <td>RM 250 000</td>\n",
       "      <td>NaN</td>\n",
       "      <td>NaN</td>\n",
       "      <td>NaN</td>\n",
       "    </tr>\n",
       "    <tr>\n",
       "      <th>2</th>\n",
       "      <td>[Below Market] Sri Lavender Apartment,Tmn Sepa...</td>\n",
       "      <td>3</td>\n",
       "      <td>2</td>\n",
       "      <td>1000 sq.ft.</td>\n",
       "      <td>NaN</td>\n",
       "      <td>NaN</td>\n",
       "      <td>103792905</td>\n",
       "      <td>Apartment / Condominium, For sale</td>\n",
       "      <td>Playground, Minimart, Jogging Track, Barbeque ...</td>\n",
       "      <td>Sri Lavender Apartment</td>\n",
       "      <td>TLS Group</td>\n",
       "      <td>Freehold</td>\n",
       "      <td>Jalan Sepakat Indah 2/1, Taman Sepakat Indah 2...</td>\n",
       "      <td>2007</td>\n",
       "      <td>13</td>\n",
       "      <td>445</td>\n",
       "      <td>Apartment</td>\n",
       "      <td>1</td>\n",
       "      <td>Medium</td>\n",
       "      <td>Non Bumi Lot</td>\n",
       "      <td>-</td>\n",
       "      <td>-</td>\n",
       "      <td>-</td>\n",
       "      <td>NaN</td>\n",
       "      <td>NaN</td>\n",
       "      <td>NaN</td>\n",
       "      <td>NaN</td>\n",
       "      <td>NaN</td>\n",
       "      <td>RM 230 000</td>\n",
       "      <td>SILK Sg Ramal (T) Toll Plaza</td>\n",
       "      <td>NaN</td>\n",
       "      <td>NaN</td>\n",
       "    </tr>\n",
       "    <tr>\n",
       "      <th>3</th>\n",
       "      <td>Flat Pandan Indah\\nJalan Pandan Indah 3/3\\nNon...</td>\n",
       "      <td>3</td>\n",
       "      <td>1</td>\n",
       "      <td>592 sq.ft.</td>\n",
       "      <td>NaN</td>\n",
       "      <td>NaN</td>\n",
       "      <td>103806240</td>\n",
       "      <td>Apartment / Condominium, For sale</td>\n",
       "      <td>Parking, Playground, Minimart, Jogging Track</td>\n",
       "      <td>Flat Pandan Indah</td>\n",
       "      <td>-</td>\n",
       "      <td>Leasehold</td>\n",
       "      <td>jalan pandan indah 3/3, Selangor, Ampang</td>\n",
       "      <td>-</td>\n",
       "      <td>-</td>\n",
       "      <td>-</td>\n",
       "      <td>Flat</td>\n",
       "      <td>1</td>\n",
       "      <td>-</td>\n",
       "      <td>Non Bumi Lot</td>\n",
       "      <td>E</td>\n",
       "      <td>11584</td>\n",
       "      <td>REN 16279</td>\n",
       "      <td>NaN</td>\n",
       "      <td>NaN</td>\n",
       "      <td>NaN</td>\n",
       "      <td>NaN</td>\n",
       "      <td>NaN</td>\n",
       "      <td>RM 158 000</td>\n",
       "      <td>NaN</td>\n",
       "      <td>NaN</td>\n",
       "      <td>NaN</td>\n",
       "    </tr>\n",
       "    <tr>\n",
       "      <th>4</th>\n",
       "      <td>* Open-concept Soho with balcony, unblock view...</td>\n",
       "      <td>1</td>\n",
       "      <td>1</td>\n",
       "      <td>467 sq.ft.</td>\n",
       "      <td>Sekolah Jenis Kebangsaan (T) Ladang Midlands</td>\n",
       "      <td>i-Soho i-City</td>\n",
       "      <td>103806234</td>\n",
       "      <td>Apartment / Condominium, For sale</td>\n",
       "      <td>Minimart, Gymnasium, Parking, Security</td>\n",
       "      <td>i-Soho @ i-City</td>\n",
       "      <td>i-Berhad</td>\n",
       "      <td>Freehold</td>\n",
       "      <td>Jalan Plumbum 7/102, Shah Alam, Selangor</td>\n",
       "      <td>-</td>\n",
       "      <td>43</td>\n",
       "      <td>956</td>\n",
       "      <td>Studio</td>\n",
       "      <td>-</td>\n",
       "      <td>Low</td>\n",
       "      <td>Bumi Lot</td>\n",
       "      <td>E</td>\n",
       "      <td>31916</td>\n",
       "      <td>-</td>\n",
       "      <td>Bus Stop at Persiaran Permai 1\\nBus Stop at Pe...</td>\n",
       "      <td>i-Soho i-City\\nGulati\\nCentral i-City Shopping...</td>\n",
       "      <td>Park 2 at Section 7, Shah Alam\\nPark 1 at Sect...</td>\n",
       "      <td>Sekolah Jenis Kebangsaan (T) Ladang Midlands\\n...</td>\n",
       "      <td>Osel Clinic (Shah Alam)\\nHospital Shah Alam</td>\n",
       "      <td>RM 305 000</td>\n",
       "      <td>NaN</td>\n",
       "      <td>NaN</td>\n",
       "      <td>NaN</td>\n",
       "    </tr>\n",
       "  </tbody>\n",
       "</table>\n",
       "</div>"
      ],
      "text/plain": [
       "                                         description Bedroom Bathroom  \\\n",
       "0  Iconic Building @ KL SETAPAK\\nNew launching & ...       4        2   \n",
       "1  FOR SALE @ RM250,000\\nIntroduction:\\n~ Pangsap...       3        2   \n",
       "2  [Below Market] Sri Lavender Apartment,Tmn Sepa...       3        2   \n",
       "3  Flat Pandan Indah\\nJalan Pandan Indah 3/3\\nNon...       3        1   \n",
       "4  * Open-concept Soho with balcony, unblock view...       1        1   \n",
       "\n",
       "  Property Size                                      Nearby School  \\\n",
       "0   1000 sq.ft.  Sekolah Menengah Pendidikan Khas Cacat Penglih...   \n",
       "1    980 sq.ft.                                                NaN   \n",
       "2   1000 sq.ft.                                                NaN   \n",
       "3    592 sq.ft.                                                NaN   \n",
       "4    467 sq.ft.       Sekolah Jenis Kebangsaan (T) Ladang Midlands   \n",
       "\n",
       "       Nearby Mall    Ad List                           Category  \\\n",
       "0  Setapak Central   98187451  Apartment / Condominium, For sale   \n",
       "1              NaN  101683090  Apartment / Condominium, For sale   \n",
       "2              NaN  103792905  Apartment / Condominium, For sale   \n",
       "3              NaN  103806240  Apartment / Condominium, For sale   \n",
       "4    i-Soho i-City  103806234  Apartment / Condominium, For sale   \n",
       "\n",
       "                                          Facilities  \\\n",
       "0                                                  -   \n",
       "1  Parking, Security, Swimming Pool, Playground, ...   \n",
       "2  Playground, Minimart, Jogging Track, Barbeque ...   \n",
       "3       Parking, Playground, Minimart, Jogging Track   \n",
       "4             Minimart, Gymnasium, Parking, Security   \n",
       "\n",
       "               Building Name          Developer Tenure Type  \\\n",
       "0          Kenwingston Platz  Kenwingston Group    Freehold   \n",
       "1  Kenanga (Park View Court)                  -    Freehold   \n",
       "2     Sri Lavender Apartment          TLS Group    Freehold   \n",
       "3          Flat Pandan Indah                  -   Leasehold   \n",
       "4            i-Soho @ i-City           i-Berhad    Freehold   \n",
       "\n",
       "                                             Address Completion Year  \\\n",
       "0                Jalan Gombak, Setapak, Kuala Lumpur               -   \n",
       "1             Jalan Kenanga 3/8, Melaka City, Melaka               -   \n",
       "2  Jalan Sepakat Indah 2/1, Taman Sepakat Indah 2...            2007   \n",
       "3           jalan pandan indah 3/3, Selangor, Ampang               -   \n",
       "4           Jalan Plumbum 7/102, Shah Alam, Selangor               -   \n",
       "\n",
       "  # of Floors Total Units      Property Type Parking Lot Floor Range  \\\n",
       "0           -           -  Service Residence           2           -   \n",
       "1           -           -          Apartment           1         Low   \n",
       "2          13         445          Apartment           1      Medium   \n",
       "3           -           -               Flat           1           -   \n",
       "4          43         956             Studio           -         Low   \n",
       "\n",
       "     Land Title Firm Type Firm Number REN Number  \\\n",
       "0  Non Bumi Lot        VE       30338          -   \n",
       "1  Non Bumi Lot         E       30812  REN 15862   \n",
       "2  Non Bumi Lot         -           -          -   \n",
       "3  Non Bumi Lot         E       11584  REN 16279   \n",
       "4      Bumi Lot         E       31916          -   \n",
       "\n",
       "                                            Bus Stop  \\\n",
       "0  Bus Stop Starparc Point\\nBus Stop Setapak Cent...   \n",
       "1                                                NaN   \n",
       "2                                                NaN   \n",
       "3                                                NaN   \n",
       "4  Bus Stop at Persiaran Permai 1\\nBus Stop at Pe...   \n",
       "\n",
       "                                                Mall  \\\n",
       "0                                    Setapak Central   \n",
       "1                                                NaN   \n",
       "2                                                NaN   \n",
       "3                                                NaN   \n",
       "4  i-Soho i-City\\nGulati\\nCentral i-City Shopping...   \n",
       "\n",
       "                                                Park  \\\n",
       "0  Park at Taman Tasik Danau Kota, Setapak, Kuala...   \n",
       "1                                                NaN   \n",
       "2                                                NaN   \n",
       "3                                                NaN   \n",
       "4  Park 2 at Section 7, Shah Alam\\nPark 1 at Sect...   \n",
       "\n",
       "                                              School  \\\n",
       "0  Sekolah Menengah Pendidikan Khas Cacat Penglih...   \n",
       "1                                                NaN   \n",
       "2                                                NaN   \n",
       "3                                                NaN   \n",
       "4  Sekolah Jenis Kebangsaan (T) Ladang Midlands\\n...   \n",
       "\n",
       "                                      Hospital       price  \\\n",
       "0                       Columbia Asia Hospital  RM 340 000   \n",
       "1                                          NaN  RM 250 000   \n",
       "2                                          NaN  RM 230 000   \n",
       "3                                          NaN  RM 158 000   \n",
       "4  Osel Clinic (Shah Alam)\\nHospital Shah Alam  RM 305 000   \n",
       "\n",
       "                        Highway Nearby Railway Station Railway Station  \n",
       "0                           NaN                    NaN             NaN  \n",
       "1                           NaN                    NaN             NaN  \n",
       "2  SILK Sg Ramal (T) Toll Plaza                    NaN             NaN  \n",
       "3                           NaN                    NaN             NaN  \n",
       "4                           NaN                    NaN             NaN  "
      ]
     },
     "execution_count": 4,
     "metadata": {},
     "output_type": "execute_result"
    }
   ],
   "source": [
    "pd.set_option('display.max_columns', None)\n",
    "df.head()"
   ]
  },
  {
   "cell_type": "markdown",
   "metadata": {},
   "source": [
    "### 1.2 Drop unwanted columns"
   ]
  },
  {
   "cell_type": "code",
   "execution_count": 5,
   "metadata": {},
   "outputs": [],
   "source": [
    "columns_drop = ['description','Nearby School','Nearby Mall','Ad List',\n",
    "                'Category','Developer','Address','Completion Year',\n",
    "                'Floor Range','Firm Type','Firm Number','REN Number',\n",
    "                'Bus Stop','Mall','Park','School','Hospital','Highway',\n",
    "                'Railway Station','Nearby Railway Station', '# of Floors', \n",
    "                'Total Units']\n",
    "\n",
    "df = df.drop(columns=columns_drop)"
   ]
  },
  {
   "cell_type": "markdown",
   "metadata": {},
   "source": [
    "### 1.3 Check for any NA rows and remove if necessary"
   ]
  },
  {
   "cell_type": "code",
   "execution_count": 6,
   "metadata": {},
   "outputs": [
    {
     "data": {
      "text/plain": [
       "Bedroom          0\n",
       "Bathroom         0\n",
       "Property Size    0\n",
       "Facilities       0\n",
       "Building Name    0\n",
       "Tenure Type      0\n",
       "Property Type    0\n",
       "Parking Lot      0\n",
       "Land Title       0\n",
       "price            0\n",
       "dtype: int64"
      ]
     },
     "execution_count": 6,
     "metadata": {},
     "output_type": "execute_result"
    }
   ],
   "source": [
    "df.isna().sum()"
   ]
  },
  {
   "cell_type": "markdown",
   "metadata": {},
   "source": [
    "### 1.4 Extract only numerical values from \"Property Size\" column"
   ]
  },
  {
   "cell_type": "code",
   "execution_count": 7,
   "metadata": {},
   "outputs": [],
   "source": [
    "df['Property Size_in_sq_ft'] = df['Property Size'].str[:-6].astype(int)\n",
    "\n",
    "df = df.drop(columns='Property Size')"
   ]
  },
  {
   "cell_type": "markdown",
   "metadata": {},
   "source": [
    "### 1.5 Modify the \"Facilities\" column to display amount of facilities "
   ]
  },
  {
   "cell_type": "code",
   "execution_count": 8,
   "metadata": {},
   "outputs": [],
   "source": [
    "df['Amount of Facilities'] = df['Facilities'].apply(lambda x: 0 if x.strip() == '-' else len(x.split(',')))\n",
    "df = df.drop(columns='Facilities')"
   ]
  },
  {
   "cell_type": "markdown",
   "metadata": {},
   "source": [
    "### 1.6 Extract only numerical values from \"price\" column"
   ]
  },
  {
   "cell_type": "code",
   "execution_count": 9,
   "metadata": {},
   "outputs": [],
   "source": [
    "df['Price_in_RM'] = df['price'].str[2:].replace(' ', '', regex=True).astype(int)\n",
    "df = df.drop(columns='price')"
   ]
  },
  {
   "cell_type": "markdown",
   "metadata": {},
   "source": [
    "### 1.7 Replace '-' value with 0 in \"Parking Lot\" column"
   ]
  },
  {
   "cell_type": "code",
   "execution_count": 10,
   "metadata": {},
   "outputs": [],
   "source": [
    "df['Parking Lot'] = df['Parking Lot'].replace('-','0', regex=True).astype(int)"
   ]
  },
  {
   "cell_type": "markdown",
   "metadata": {},
   "source": [
    "### 1.8 Remove the row where column \"Bedroom\" and \"Bathroom\" is '-'"
   ]
  },
  {
   "cell_type": "code",
   "execution_count": 11,
   "metadata": {},
   "outputs": [],
   "source": [
    "df = df[~df['Bathroom'].str.contains('-', na=False)]\n",
    "df = df[~df['Bedroom'].str.contains('-', na=False)]"
   ]
  },
  {
   "cell_type": "markdown",
   "metadata": {},
   "source": [
    "### 1.9 Convert \"Bedroom\" and \"Bathroom\" columns into '.int' type"
   ]
  },
  {
   "cell_type": "code",
   "execution_count": 12,
   "metadata": {},
   "outputs": [
    {
     "data": {
      "text/html": [
       "<div>\n",
       "<style scoped>\n",
       "    .dataframe tbody tr th:only-of-type {\n",
       "        vertical-align: middle;\n",
       "    }\n",
       "\n",
       "    .dataframe tbody tr th {\n",
       "        vertical-align: top;\n",
       "    }\n",
       "\n",
       "    .dataframe thead th {\n",
       "        text-align: right;\n",
       "    }\n",
       "</style>\n",
       "<table border=\"1\" class=\"dataframe\">\n",
       "  <thead>\n",
       "    <tr style=\"text-align: right;\">\n",
       "      <th></th>\n",
       "      <th>Bedroom</th>\n",
       "      <th>Bathroom</th>\n",
       "    </tr>\n",
       "  </thead>\n",
       "  <tbody>\n",
       "    <tr>\n",
       "      <th>0</th>\n",
       "      <td>4</td>\n",
       "      <td>2</td>\n",
       "    </tr>\n",
       "    <tr>\n",
       "      <th>1</th>\n",
       "      <td>3</td>\n",
       "      <td>2</td>\n",
       "    </tr>\n",
       "    <tr>\n",
       "      <th>2</th>\n",
       "      <td>3</td>\n",
       "      <td>2</td>\n",
       "    </tr>\n",
       "    <tr>\n",
       "      <th>3</th>\n",
       "      <td>3</td>\n",
       "      <td>1</td>\n",
       "    </tr>\n",
       "    <tr>\n",
       "      <th>4</th>\n",
       "      <td>1</td>\n",
       "      <td>1</td>\n",
       "    </tr>\n",
       "    <tr>\n",
       "      <th>...</th>\n",
       "      <td>...</td>\n",
       "      <td>...</td>\n",
       "    </tr>\n",
       "    <tr>\n",
       "      <th>3995</th>\n",
       "      <td>3</td>\n",
       "      <td>2</td>\n",
       "    </tr>\n",
       "    <tr>\n",
       "      <th>3996</th>\n",
       "      <td>3</td>\n",
       "      <td>2</td>\n",
       "    </tr>\n",
       "    <tr>\n",
       "      <th>3997</th>\n",
       "      <td>3</td>\n",
       "      <td>2</td>\n",
       "    </tr>\n",
       "    <tr>\n",
       "      <th>3998</th>\n",
       "      <td>4</td>\n",
       "      <td>3</td>\n",
       "    </tr>\n",
       "    <tr>\n",
       "      <th>3999</th>\n",
       "      <td>3</td>\n",
       "      <td>2</td>\n",
       "    </tr>\n",
       "  </tbody>\n",
       "</table>\n",
       "<p>3999 rows × 2 columns</p>\n",
       "</div>"
      ],
      "text/plain": [
       "      Bedroom  Bathroom\n",
       "0           4         2\n",
       "1           3         2\n",
       "2           3         2\n",
       "3           3         1\n",
       "4           1         1\n",
       "...       ...       ...\n",
       "3995        3         2\n",
       "3996        3         2\n",
       "3997        3         2\n",
       "3998        4         3\n",
       "3999        3         2\n",
       "\n",
       "[3999 rows x 2 columns]"
      ]
     },
     "execution_count": 12,
     "metadata": {},
     "output_type": "execute_result"
    }
   ],
   "source": [
    "df[['Bedroom','Bathroom']].astype(int)"
   ]
  },
  {
   "cell_type": "markdown",
   "metadata": {},
   "source": [
    "### 1.10 Rearrange the columns"
   ]
  },
  {
   "cell_type": "code",
   "execution_count": 13,
   "metadata": {},
   "outputs": [],
   "source": [
    "rearrange_columns = ['Building Name','Property Type',\n",
    "                     'Property Size_in_sq_ft','Bedroom',\n",
    "                     'Bathroom','Amount of Facilities',\n",
    "                     'Parking Lot','Land Title','Tenure Type',\n",
    "                     'Price_in_RM']\n",
    "\n",
    "df = df[rearrange_columns]"
   ]
  },
  {
   "cell_type": "markdown",
   "metadata": {},
   "source": [
    "### 1.11 Export to .csv"
   ]
  },
  {
   "cell_type": "code",
   "execution_count": 14,
   "metadata": {},
   "outputs": [],
   "source": [
    "df.to_csv('house_data_cleaned.csv')"
   ]
  },
  {
   "cell_type": "code",
   "execution_count": null,
   "metadata": {},
   "outputs": [],
   "source": []
  },
  {
   "cell_type": "markdown",
   "metadata": {},
   "source": [
    "# 2. Machine Learning"
   ]
  },
  {
   "cell_type": "markdown",
   "metadata": {},
   "source": [
    "### 2.1 Import .csv, remove unwanted column and check information of the data"
   ]
  },
  {
   "cell_type": "code",
   "execution_count": 15,
   "metadata": {},
   "outputs": [
    {
     "data": {
      "text/html": [
       "<div>\n",
       "<style scoped>\n",
       "    .dataframe tbody tr th:only-of-type {\n",
       "        vertical-align: middle;\n",
       "    }\n",
       "\n",
       "    .dataframe tbody tr th {\n",
       "        vertical-align: top;\n",
       "    }\n",
       "\n",
       "    .dataframe thead th {\n",
       "        text-align: right;\n",
       "    }\n",
       "</style>\n",
       "<table border=\"1\" class=\"dataframe\">\n",
       "  <thead>\n",
       "    <tr style=\"text-align: right;\">\n",
       "      <th></th>\n",
       "      <th>Property Type</th>\n",
       "      <th>Property Size_in_sq_ft</th>\n",
       "      <th>Bedroom</th>\n",
       "      <th>Bathroom</th>\n",
       "      <th>Amount of Facilities</th>\n",
       "      <th>Parking Lot</th>\n",
       "      <th>Land Title</th>\n",
       "      <th>Tenure Type</th>\n",
       "      <th>Price_in_RM</th>\n",
       "    </tr>\n",
       "  </thead>\n",
       "  <tbody>\n",
       "    <tr>\n",
       "      <th>0</th>\n",
       "      <td>Service Residence</td>\n",
       "      <td>1000</td>\n",
       "      <td>4</td>\n",
       "      <td>2</td>\n",
       "      <td>0</td>\n",
       "      <td>2</td>\n",
       "      <td>Non Bumi Lot</td>\n",
       "      <td>Freehold</td>\n",
       "      <td>340000</td>\n",
       "    </tr>\n",
       "    <tr>\n",
       "      <th>1</th>\n",
       "      <td>Apartment</td>\n",
       "      <td>980</td>\n",
       "      <td>3</td>\n",
       "      <td>2</td>\n",
       "      <td>6</td>\n",
       "      <td>1</td>\n",
       "      <td>Non Bumi Lot</td>\n",
       "      <td>Freehold</td>\n",
       "      <td>250000</td>\n",
       "    </tr>\n",
       "    <tr>\n",
       "      <th>2</th>\n",
       "      <td>Apartment</td>\n",
       "      <td>1000</td>\n",
       "      <td>3</td>\n",
       "      <td>2</td>\n",
       "      <td>7</td>\n",
       "      <td>1</td>\n",
       "      <td>Non Bumi Lot</td>\n",
       "      <td>Freehold</td>\n",
       "      <td>230000</td>\n",
       "    </tr>\n",
       "    <tr>\n",
       "      <th>3</th>\n",
       "      <td>Flat</td>\n",
       "      <td>592</td>\n",
       "      <td>3</td>\n",
       "      <td>1</td>\n",
       "      <td>4</td>\n",
       "      <td>1</td>\n",
       "      <td>Non Bumi Lot</td>\n",
       "      <td>Leasehold</td>\n",
       "      <td>158000</td>\n",
       "    </tr>\n",
       "    <tr>\n",
       "      <th>4</th>\n",
       "      <td>Studio</td>\n",
       "      <td>467</td>\n",
       "      <td>1</td>\n",
       "      <td>1</td>\n",
       "      <td>4</td>\n",
       "      <td>0</td>\n",
       "      <td>Bumi Lot</td>\n",
       "      <td>Freehold</td>\n",
       "      <td>305000</td>\n",
       "    </tr>\n",
       "  </tbody>\n",
       "</table>\n",
       "</div>"
      ],
      "text/plain": [
       "       Property Type  Property Size_in_sq_ft  Bedroom  Bathroom  \\\n",
       "0  Service Residence                    1000        4         2   \n",
       "1          Apartment                     980        3         2   \n",
       "2          Apartment                    1000        3         2   \n",
       "3               Flat                     592        3         1   \n",
       "4             Studio                     467        1         1   \n",
       "\n",
       "   Amount of Facilities  Parking Lot    Land Title Tenure Type  Price_in_RM  \n",
       "0                     0            2  Non Bumi Lot    Freehold       340000  \n",
       "1                     6            1  Non Bumi Lot    Freehold       250000  \n",
       "2                     7            1  Non Bumi Lot    Freehold       230000  \n",
       "3                     4            1  Non Bumi Lot   Leasehold       158000  \n",
       "4                     4            0      Bumi Lot    Freehold       305000  "
      ]
     },
     "execution_count": 15,
     "metadata": {},
     "output_type": "execute_result"
    }
   ],
   "source": [
    "import pandas as pd\n",
    "\n",
    "df = pd.read_csv('house_data_cleaned.csv')\n",
    "\n",
    "df = df.drop(columns=['Unnamed: 0','Building Name'])\n",
    "\n",
    "df.head()"
   ]
  },
  {
   "cell_type": "code",
   "execution_count": 16,
   "metadata": {},
   "outputs": [
    {
     "name": "stdout",
     "output_type": "stream",
     "text": [
      "<class 'pandas.core.frame.DataFrame'>\n",
      "RangeIndex: 3999 entries, 0 to 3998\n",
      "Data columns (total 9 columns):\n",
      " #   Column                  Non-Null Count  Dtype \n",
      "---  ------                  --------------  ----- \n",
      " 0   Property Type           3999 non-null   object\n",
      " 1   Property Size_in_sq_ft  3999 non-null   int64 \n",
      " 2   Bedroom                 3999 non-null   int64 \n",
      " 3   Bathroom                3999 non-null   int64 \n",
      " 4   Amount of Facilities    3999 non-null   int64 \n",
      " 5   Parking Lot             3999 non-null   int64 \n",
      " 6   Land Title              3999 non-null   object\n",
      " 7   Tenure Type             3999 non-null   object\n",
      " 8   Price_in_RM             3999 non-null   int64 \n",
      "dtypes: int64(6), object(3)\n",
      "memory usage: 281.3+ KB\n"
     ]
    }
   ],
   "source": [
    "df.info()"
   ]
  },
  {
   "cell_type": "code",
   "execution_count": 17,
   "metadata": {},
   "outputs": [
    {
     "data": {
      "text/plain": [
       "(3999, 9)"
      ]
     },
     "execution_count": 17,
     "metadata": {},
     "output_type": "execute_result"
    }
   ],
   "source": [
    "df.shape"
   ]
  },
  {
   "cell_type": "code",
   "execution_count": 18,
   "metadata": {},
   "outputs": [
    {
     "name": "stdout",
     "output_type": "stream",
     "text": [
      "<class 'pandas.core.frame.DataFrame'>\n",
      "RangeIndex: 3999 entries, 0 to 3998\n",
      "Data columns (total 9 columns):\n",
      " #   Column                  Non-Null Count  Dtype \n",
      "---  ------                  --------------  ----- \n",
      " 0   Property Type           3999 non-null   object\n",
      " 1   Property Size_in_sq_ft  3999 non-null   int64 \n",
      " 2   Bedroom                 3999 non-null   int64 \n",
      " 3   Bathroom                3999 non-null   int64 \n",
      " 4   Amount of Facilities    3999 non-null   int64 \n",
      " 5   Parking Lot             3999 non-null   int64 \n",
      " 6   Land Title              3999 non-null   object\n",
      " 7   Tenure Type             3999 non-null   object\n",
      " 8   Price_in_RM             3999 non-null   int64 \n",
      "dtypes: int64(6), object(3)\n",
      "memory usage: 281.3+ KB\n"
     ]
    }
   ],
   "source": [
    "df.info()"
   ]
  },
  {
   "cell_type": "markdown",
   "metadata": {},
   "source": [
    "### 2.2 Define features (X) and target (y)"
   ]
  },
  {
   "cell_type": "code",
   "execution_count": 19,
   "metadata": {},
   "outputs": [],
   "source": [
    "X = df.drop(columns = 'Price_in_RM')\n",
    "y = df['Price_in_RM']"
   ]
  },
  {
   "cell_type": "markdown",
   "metadata": {},
   "source": [
    "X represents the features (independent variables)  that are used for the predictions. \n",
    "\n",
    "\n",
    "y represents the target (dependent variable) that the ML model aims to predict, in this case is the Price of the Houses in RM (currency of Malaysia)."
   ]
  },
  {
   "cell_type": "markdown",
   "metadata": {},
   "source": [
    "### 2.3 Split the data into testing sets and training sets"
   ]
  },
  {
   "cell_type": "code",
   "execution_count": 20,
   "metadata": {},
   "outputs": [],
   "source": [
    "from sklearn.model_selection import train_test_split\n",
    "\n",
    "X_train, X_test, y_train, y_test = train_test_split(X, y, test_size=0.2, random_state=45)"
   ]
  },
  {
   "cell_type": "markdown",
   "metadata": {},
   "source": [
    "We then split the data set into the ratio of 80/20.\n",
    "80% of the data are used for training the model, while the remaining 20% are reserved for testing the performance of the model."
   ]
  },
  {
   "cell_type": "markdown",
   "metadata": {},
   "source": [
    "### 2.4 Preprocessing of categorical and numerical columns"
   ]
  },
  {
   "cell_type": "code",
   "execution_count": 21,
   "metadata": {},
   "outputs": [],
   "source": [
    "from sklearn.compose import ColumnTransformer\n",
    "from sklearn.preprocessing import OneHotEncoder, StandardScaler\n",
    "\n",
    "\n",
    "categorical_columns = ['Property Type', 'Land Title', 'Tenure Type']\n",
    "numerical_columns = ['Property Size_in_sq_ft', 'Bedroom', 'Bathroom', \n",
    "                     'Amount of Facilities', 'Parking Lot']\n",
    "\n",
    "categorical_transformer = OneHotEncoder()\n",
    "numerical_transformer = StandardScaler()\n",
    "\n",
    "preprocessor = ColumnTransformer(\n",
    "    transformers=[\n",
    "        ('cat', categorical_transformer, categorical_columns),\n",
    "        ('num',numerical_transformer, numerical_columns)\n",
    "    ]\n",
    ")"
   ]
  },
  {
   "cell_type": "markdown",
   "metadata": {},
   "source": [
    "This preprocessing process aims to transform the data into formats that are most suitable for analysis by the ML model. \n",
    "\n",
    "\n",
    "For the categorical columns, we pass through 'OneHotEncoder' to convert categorical values into numerical format.\n",
    "\n",
    "\n",
    "For numerical columns, we apply StandardScaler to standardize the numerical values into a standard format.\n",
    "\n",
    "\n",
    "Next, the ColumnTransformer combines these two transformers into a single preprocessor."
   ]
  },
  {
   "cell_type": "markdown",
   "metadata": {},
   "source": [
    "### 2.5 Selection of Machine Learning model"
   ]
  },
  {
   "cell_type": "code",
   "execution_count": 22,
   "metadata": {},
   "outputs": [],
   "source": [
    "from sklearn.linear_model import LinearRegression\n",
    "\n",
    "model = LinearRegression()"
   ]
  },
  {
   "cell_type": "markdown",
   "metadata": {},
   "source": [
    "As a beginner, linear regression is the perfect choice of ML model for many reasons: simplicity, interpretability, and efficiency. Although relatively simple, it is still equally significant."
   ]
  },
  {
   "cell_type": "markdown",
   "metadata": {},
   "source": [
    "### 2.6  Create pipeline"
   ]
  },
  {
   "cell_type": "code",
   "execution_count": 23,
   "metadata": {},
   "outputs": [],
   "source": [
    "from sklearn.pipeline import Pipeline\n",
    "\n",
    "my_pipeline = Pipeline(steps=[('preprocessor', preprocessor),\n",
    "                             ('model', model)])"
   ]
  },
  {
   "cell_type": "markdown",
   "metadata": {},
   "source": [
    "Pipeline merges the preprocessing and ML modelling into one, meaning that we can simplify the whole process into a single step. \n",
    "\n",
    "(Without pipeline, we would have to carry out OneHotEncoder, StandardScalar and model training into individual steps, which would be complicated.)"
   ]
  },
  {
   "cell_type": "markdown",
   "metadata": {},
   "source": [
    "### 2.7 Fit the model with the training sets"
   ]
  },
  {
   "cell_type": "code",
   "execution_count": 24,
   "metadata": {},
   "outputs": [
    {
     "data": {
      "text/plain": [
       "Pipeline(steps=[('preprocessor',\n",
       "                 ColumnTransformer(transformers=[('cat', OneHotEncoder(),\n",
       "                                                  ['Property Type',\n",
       "                                                   'Land Title',\n",
       "                                                   'Tenure Type']),\n",
       "                                                 ('num', StandardScaler(),\n",
       "                                                  ['Property Size_in_sq_ft',\n",
       "                                                   'Bedroom', 'Bathroom',\n",
       "                                                   'Amount of Facilities',\n",
       "                                                   'Parking Lot'])])),\n",
       "                ('model', LinearRegression())])"
      ]
     },
     "execution_count": 24,
     "metadata": {},
     "output_type": "execute_result"
    }
   ],
   "source": [
    "my_pipeline.fit(X_train, y_train)"
   ]
  },
  {
   "cell_type": "markdown",
   "metadata": {},
   "source": [
    "As this is a supervised learning ML model, we would then fit the model with the features (X) and target (y) of the training sets."
   ]
  },
  {
   "cell_type": "markdown",
   "metadata": {},
   "source": [
    "### 2.8 Identify the differences in prices (Predicted vs Actual)"
   ]
  },
  {
   "cell_type": "code",
   "execution_count": 25,
   "metadata": {},
   "outputs": [],
   "source": [
    "predicted_value = my_pipeline.predict(X_test)\n",
    "actual_value = y_test"
   ]
  },
  {
   "cell_type": "code",
   "execution_count": 26,
   "metadata": {},
   "outputs": [
    {
     "data": {
      "text/html": [
       "<div>\n",
       "<style scoped>\n",
       "    .dataframe tbody tr th:only-of-type {\n",
       "        vertical-align: middle;\n",
       "    }\n",
       "\n",
       "    .dataframe tbody tr th {\n",
       "        vertical-align: top;\n",
       "    }\n",
       "\n",
       "    .dataframe thead th {\n",
       "        text-align: right;\n",
       "    }\n",
       "</style>\n",
       "<table border=\"1\" class=\"dataframe\">\n",
       "  <thead>\n",
       "    <tr style=\"text-align: right;\">\n",
       "      <th></th>\n",
       "      <th>Predicted Price</th>\n",
       "      <th>Actual Price</th>\n",
       "    </tr>\n",
       "  </thead>\n",
       "  <tbody>\n",
       "    <tr>\n",
       "      <th>1244</th>\n",
       "      <td>502332.0</td>\n",
       "      <td>349000</td>\n",
       "    </tr>\n",
       "    <tr>\n",
       "      <th>410</th>\n",
       "      <td>828560.0</td>\n",
       "      <td>1009000</td>\n",
       "    </tr>\n",
       "    <tr>\n",
       "      <th>1624</th>\n",
       "      <td>294456.0</td>\n",
       "      <td>330000</td>\n",
       "    </tr>\n",
       "    <tr>\n",
       "      <th>289</th>\n",
       "      <td>325928.0</td>\n",
       "      <td>360000</td>\n",
       "    </tr>\n",
       "    <tr>\n",
       "      <th>1527</th>\n",
       "      <td>493988.0</td>\n",
       "      <td>338000</td>\n",
       "    </tr>\n",
       "    <tr>\n",
       "      <th>...</th>\n",
       "      <td>...</td>\n",
       "      <td>...</td>\n",
       "    </tr>\n",
       "    <tr>\n",
       "      <th>402</th>\n",
       "      <td>564044.0</td>\n",
       "      <td>570000</td>\n",
       "    </tr>\n",
       "    <tr>\n",
       "      <th>2526</th>\n",
       "      <td>576932.0</td>\n",
       "      <td>598000</td>\n",
       "    </tr>\n",
       "    <tr>\n",
       "      <th>3765</th>\n",
       "      <td>329652.0</td>\n",
       "      <td>235000</td>\n",
       "    </tr>\n",
       "    <tr>\n",
       "      <th>3255</th>\n",
       "      <td>577420.0</td>\n",
       "      <td>379000</td>\n",
       "    </tr>\n",
       "    <tr>\n",
       "      <th>46</th>\n",
       "      <td>207600.0</td>\n",
       "      <td>240000</td>\n",
       "    </tr>\n",
       "  </tbody>\n",
       "</table>\n",
       "<p>800 rows × 2 columns</p>\n",
       "</div>"
      ],
      "text/plain": [
       "      Predicted Price  Actual Price\n",
       "1244         502332.0        349000\n",
       "410          828560.0       1009000\n",
       "1624         294456.0        330000\n",
       "289          325928.0        360000\n",
       "1527         493988.0        338000\n",
       "...               ...           ...\n",
       "402          564044.0        570000\n",
       "2526         576932.0        598000\n",
       "3765         329652.0        235000\n",
       "3255         577420.0        379000\n",
       "46           207600.0        240000\n",
       "\n",
       "[800 rows x 2 columns]"
      ]
     },
     "execution_count": 26,
     "metadata": {},
     "output_type": "execute_result"
    }
   ],
   "source": [
    "price_comparison = pd.DataFrame({'Predicted Price':predicted_value, \n",
    "                           'Actual Price':actual_value})\n",
    "price_comparison"
   ]
  },
  {
   "cell_type": "markdown",
   "metadata": {},
   "source": [
    "The training session is over, now it is time for testing. \n",
    "\n",
    "\n",
    "Giving the model the Features(X_test) of training sets, it would then predict the price of the houses based on what it had learned during the training session.\n",
    "\n",
    "\n",
    "We can now compare the Predicted Price with the Actual Price (y_test). Some predictions were off by tens of thousands, while others few hundreds of thousands."
   ]
  },
  {
   "cell_type": "markdown",
   "metadata": {},
   "source": [
    "### 2.9 Evaluate the model"
   ]
  },
  {
   "cell_type": "code",
   "execution_count": 27,
   "metadata": {},
   "outputs": [
    {
     "name": "stdout",
     "output_type": "stream",
     "text": [
      "Mean Absolute Error:  126926.09\n",
      "R2 Score:  0.50338\n"
     ]
    }
   ],
   "source": [
    "from sklearn.metrics import mean_absolute_error, r2_score\n",
    "\n",
    "mae = mean_absolute_error(actual_value, predicted_value)\n",
    "r2 = r2_score(actual_value, predicted_value)\n",
    "\n",
    "\n",
    "print('Mean Absolute Error: ', round(mae, 2))\n",
    "print('R2 Score: ', round(r2,5))"
   ]
  },
  {
   "cell_type": "markdown",
   "metadata": {},
   "source": [
    "It would be challenging to gauge the performance of a model solely by looking at the difference in prices, that is where statistical evaluation metrics comes in!\n",
    "\n",
    "\n",
    "Mean Absolute Error (MAE) is incredibly intuitive and easy to understand, it signifies the average differences between the predicted price and actual price. In this case, it means that our predictions were off by RM126,926.09 on average. \n",
    "\n",
    "\n",
    "R² Score provides an overall assessment of how well the model approximates the actual data. The R²score of 0.50338 signifies that the model explains only about 50.34% of the variance in the actual prices."
   ]
  },
  {
   "cell_type": "markdown",
   "metadata": {},
   "source": [
    "### 2.10 Draw scatter plot"
   ]
  },
  {
   "cell_type": "code",
   "execution_count": 28,
   "metadata": {
    "scrolled": false
   },
   "outputs": [
    {
     "data": {
      "image/png": "[encoded data removed]",
      "text/plain": [
       "<Figure size 432x288 with 1 Axes>"
      ]
     },
     "metadata": {
      "needs_background": "light"
     },
     "output_type": "display_data"
    }
   ],
   "source": [
    "import matplotlib.pyplot as plt\n",
    "\n",
    "plt.scatter(actual_value, predicted_value, alpha=0.7, edgecolors='k')\n",
    "plt.xlabel('Actual')\n",
    "plt.ylabel('Predicted')\n",
    "plt.title('Actual vs Predicted Price')\n",
    "plt.show()"
   ]
  },
  {
   "cell_type": "markdown",
   "metadata": {},
   "source": [
    "Thank you for reading ! :)"
   ]
  }
 ],
 "metadata": {
  "kernelspec": {
   "display_name": "Python 3",
   "language": "python",
   "name": "python3"
  },
  "language_info": {
   "codemirror_mode": {
    "name": "ipython",
    "version": 3
   },
   "file_extension": ".py",
   "mimetype": "text/x-python",
   "name": "python",
   "nbconvert_exporter": "python",
   "pygments_lexer": "ipython3",
   "version": "3.8.3"
  }
 },
 "nbformat": 4,
 "nbformat_minor": 4
}
